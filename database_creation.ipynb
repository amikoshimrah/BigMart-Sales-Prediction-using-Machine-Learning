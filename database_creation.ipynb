{
 "cells": [
  {
   "cell_type": "code",
   "execution_count": 1,
   "id": "844d30f3-8a71-432c-9f45-75deb4297304",
   "metadata": {},
   "outputs": [],
   "source": [
    "# import libraries\n",
    "import numpy as np\n",
    "import pandas as pd\n",
    "import pymysql"
   ]
  },
  {
   "cell_type": "code",
   "execution_count": 2,
   "id": "17524a94-589b-4402-9fbc-ecc5ca8336bf",
   "metadata": {},
   "outputs": [],
   "source": [
    "df_item = pd.read_xml(\"C:/Nachiko/Artificial Intelligence/Black Elephant/Weekend_January_2025/Data Engineering Bootcamp/df_item.xml\")\n",
    "df_outlet = pd.read_xml(\"C:/Nachiko/Artificial Intelligence/Black Elephant/Weekend_January_2025/Data Engineering Bootcamp/df_outlet.xml\")\n",
    "df_sales = pd.read_xml(\"C:/Nachiko/Artificial Intelligence/Black Elephant/Weekend_January_2025/Data Engineering Bootcamp/df_sales.xml\")"
   ]
  },
  {
   "cell_type": "code",
   "execution_count": 3,
   "id": "16b38a39-261c-4e42-8413-81ceae9b629d",
   "metadata": {},
   "outputs": [
    {
     "data": {
      "text/html": [
       "<div>\n",
       "<style scoped>\n",
       "    .dataframe tbody tr th:only-of-type {\n",
       "        vertical-align: middle;\n",
       "    }\n",
       "\n",
       "    .dataframe tbody tr th {\n",
       "        vertical-align: top;\n",
       "    }\n",
       "\n",
       "    .dataframe thead th {\n",
       "        text-align: right;\n",
       "    }\n",
       "</style>\n",
       "<table border=\"1\" class=\"dataframe\">\n",
       "  <thead>\n",
       "    <tr style=\"text-align: right;\">\n",
       "      <th></th>\n",
       "      <th>ID</th>\n",
       "      <th>Item_Identifier</th>\n",
       "      <th>Item_Weight</th>\n",
       "      <th>Item_Fat_Content</th>\n",
       "      <th>Item_Visibility</th>\n",
       "      <th>Item_Type</th>\n",
       "      <th>Item_MRP</th>\n",
       "    </tr>\n",
       "  </thead>\n",
       "  <tbody>\n",
       "    <tr>\n",
       "      <th>0</th>\n",
       "      <td>1</td>\n",
       "      <td>FDA15</td>\n",
       "      <td>9.30</td>\n",
       "      <td>Low Fat</td>\n",
       "      <td>0.016047</td>\n",
       "      <td>Dairy</td>\n",
       "      <td>249.8092</td>\n",
       "    </tr>\n",
       "    <tr>\n",
       "      <th>1</th>\n",
       "      <td>2</td>\n",
       "      <td>DRC01</td>\n",
       "      <td>5.92</td>\n",
       "      <td>Regular</td>\n",
       "      <td>0.019278</td>\n",
       "      <td>Soft Drinks</td>\n",
       "      <td>48.2692</td>\n",
       "    </tr>\n",
       "    <tr>\n",
       "      <th>2</th>\n",
       "      <td>3</td>\n",
       "      <td>FDN15</td>\n",
       "      <td>17.50</td>\n",
       "      <td>Low Fat</td>\n",
       "      <td>0.016760</td>\n",
       "      <td>Meat</td>\n",
       "      <td>141.6180</td>\n",
       "    </tr>\n",
       "    <tr>\n",
       "      <th>3</th>\n",
       "      <td>4</td>\n",
       "      <td>FDX07</td>\n",
       "      <td>19.20</td>\n",
       "      <td>Regular</td>\n",
       "      <td>0.000000</td>\n",
       "      <td>Fruits and Vegetables</td>\n",
       "      <td>182.0950</td>\n",
       "    </tr>\n",
       "    <tr>\n",
       "      <th>4</th>\n",
       "      <td>5</td>\n",
       "      <td>NCD19</td>\n",
       "      <td>8.93</td>\n",
       "      <td>Low Fat</td>\n",
       "      <td>0.000000</td>\n",
       "      <td>Household</td>\n",
       "      <td>53.8614</td>\n",
       "    </tr>\n",
       "  </tbody>\n",
       "</table>\n",
       "</div>"
      ],
      "text/plain": [
       "   ID Item_Identifier  Item_Weight Item_Fat_Content  Item_Visibility  \\\n",
       "0   1           FDA15         9.30          Low Fat         0.016047   \n",
       "1   2           DRC01         5.92          Regular         0.019278   \n",
       "2   3           FDN15        17.50          Low Fat         0.016760   \n",
       "3   4           FDX07        19.20          Regular         0.000000   \n",
       "4   5           NCD19         8.93          Low Fat         0.000000   \n",
       "\n",
       "               Item_Type  Item_MRP  \n",
       "0                  Dairy  249.8092  \n",
       "1            Soft Drinks   48.2692  \n",
       "2                   Meat  141.6180  \n",
       "3  Fruits and Vegetables  182.0950  \n",
       "4              Household   53.8614  "
      ]
     },
     "execution_count": 3,
     "metadata": {},
     "output_type": "execute_result"
    }
   ],
   "source": [
    "df_item.head()"
   ]
  },
  {
   "cell_type": "code",
   "execution_count": 4,
   "id": "cfbc3064-8c43-4884-b242-fa70548855bd",
   "metadata": {},
   "outputs": [
    {
     "data": {
      "text/html": [
       "<div>\n",
       "<style scoped>\n",
       "    .dataframe tbody tr th:only-of-type {\n",
       "        vertical-align: middle;\n",
       "    }\n",
       "\n",
       "    .dataframe tbody tr th {\n",
       "        vertical-align: top;\n",
       "    }\n",
       "\n",
       "    .dataframe thead th {\n",
       "        text-align: right;\n",
       "    }\n",
       "</style>\n",
       "<table border=\"1\" class=\"dataframe\">\n",
       "  <thead>\n",
       "    <tr style=\"text-align: right;\">\n",
       "      <th></th>\n",
       "      <th>ID</th>\n",
       "      <th>Outlet_Identifier</th>\n",
       "      <th>Outlet_Establishment_Year</th>\n",
       "      <th>Outlet_Size</th>\n",
       "      <th>Outlet_Location_Type</th>\n",
       "      <th>Outlet_Type</th>\n",
       "    </tr>\n",
       "  </thead>\n",
       "  <tbody>\n",
       "    <tr>\n",
       "      <th>0</th>\n",
       "      <td>1</td>\n",
       "      <td>OUT049</td>\n",
       "      <td>1999</td>\n",
       "      <td>Medium</td>\n",
       "      <td>Tier 1</td>\n",
       "      <td>Supermarket Type1</td>\n",
       "    </tr>\n",
       "    <tr>\n",
       "      <th>1</th>\n",
       "      <td>2</td>\n",
       "      <td>OUT018</td>\n",
       "      <td>2009</td>\n",
       "      <td>Medium</td>\n",
       "      <td>Tier 3</td>\n",
       "      <td>Supermarket Type2</td>\n",
       "    </tr>\n",
       "    <tr>\n",
       "      <th>2</th>\n",
       "      <td>3</td>\n",
       "      <td>OUT049</td>\n",
       "      <td>1999</td>\n",
       "      <td>Medium</td>\n",
       "      <td>Tier 1</td>\n",
       "      <td>Supermarket Type1</td>\n",
       "    </tr>\n",
       "    <tr>\n",
       "      <th>3</th>\n",
       "      <td>4</td>\n",
       "      <td>OUT010</td>\n",
       "      <td>1998</td>\n",
       "      <td>Medium</td>\n",
       "      <td>Tier 3</td>\n",
       "      <td>Grocery Store</td>\n",
       "    </tr>\n",
       "    <tr>\n",
       "      <th>4</th>\n",
       "      <td>5</td>\n",
       "      <td>OUT013</td>\n",
       "      <td>1987</td>\n",
       "      <td>High</td>\n",
       "      <td>Tier 3</td>\n",
       "      <td>Supermarket Type1</td>\n",
       "    </tr>\n",
       "  </tbody>\n",
       "</table>\n",
       "</div>"
      ],
      "text/plain": [
       "   ID Outlet_Identifier  Outlet_Establishment_Year Outlet_Size  \\\n",
       "0   1            OUT049                       1999      Medium   \n",
       "1   2            OUT018                       2009      Medium   \n",
       "2   3            OUT049                       1999      Medium   \n",
       "3   4            OUT010                       1998      Medium   \n",
       "4   5            OUT013                       1987        High   \n",
       "\n",
       "  Outlet_Location_Type        Outlet_Type  \n",
       "0               Tier 1  Supermarket Type1  \n",
       "1               Tier 3  Supermarket Type2  \n",
       "2               Tier 1  Supermarket Type1  \n",
       "3               Tier 3      Grocery Store  \n",
       "4               Tier 3  Supermarket Type1  "
      ]
     },
     "execution_count": 4,
     "metadata": {},
     "output_type": "execute_result"
    }
   ],
   "source": [
    "df_outlet.head()"
   ]
  },
  {
   "cell_type": "code",
   "execution_count": 5,
   "id": "c741cd24-c4ce-479d-8081-d22d81ce1baf",
   "metadata": {},
   "outputs": [
    {
     "data": {
      "text/html": [
       "<div>\n",
       "<style scoped>\n",
       "    .dataframe tbody tr th:only-of-type {\n",
       "        vertical-align: middle;\n",
       "    }\n",
       "\n",
       "    .dataframe tbody tr th {\n",
       "        vertical-align: top;\n",
       "    }\n",
       "\n",
       "    .dataframe thead th {\n",
       "        text-align: right;\n",
       "    }\n",
       "</style>\n",
       "<table border=\"1\" class=\"dataframe\">\n",
       "  <thead>\n",
       "    <tr style=\"text-align: right;\">\n",
       "      <th></th>\n",
       "      <th>ID</th>\n",
       "      <th>Item_Outlet_Sales</th>\n",
       "    </tr>\n",
       "  </thead>\n",
       "  <tbody>\n",
       "    <tr>\n",
       "      <th>0</th>\n",
       "      <td>1</td>\n",
       "      <td>3735.1380</td>\n",
       "    </tr>\n",
       "    <tr>\n",
       "      <th>1</th>\n",
       "      <td>2</td>\n",
       "      <td>443.4228</td>\n",
       "    </tr>\n",
       "    <tr>\n",
       "      <th>2</th>\n",
       "      <td>3</td>\n",
       "      <td>2097.2700</td>\n",
       "    </tr>\n",
       "    <tr>\n",
       "      <th>3</th>\n",
       "      <td>4</td>\n",
       "      <td>732.3800</td>\n",
       "    </tr>\n",
       "    <tr>\n",
       "      <th>4</th>\n",
       "      <td>5</td>\n",
       "      <td>994.7052</td>\n",
       "    </tr>\n",
       "  </tbody>\n",
       "</table>\n",
       "</div>"
      ],
      "text/plain": [
       "   ID  Item_Outlet_Sales\n",
       "0   1          3735.1380\n",
       "1   2           443.4228\n",
       "2   3          2097.2700\n",
       "3   4           732.3800\n",
       "4   5           994.7052"
      ]
     },
     "execution_count": 5,
     "metadata": {},
     "output_type": "execute_result"
    }
   ],
   "source": [
    "df_sales.head()"
   ]
  },
  {
   "cell_type": "code",
   "execution_count": 6,
   "id": "813033b2-a50a-4085-9d92-b55887c0121c",
   "metadata": {},
   "outputs": [
    {
     "name": "stdout",
     "output_type": "stream",
     "text": [
      "<pymysql.cursors.Cursor object at 0x000002347437F0E0>\n"
     ]
    }
   ],
   "source": [
    "# Connection to my sql database\n",
    "conn = pymysql.connect(\n",
    "    host = 'localhost',\n",
    "    user = 'root',\n",
    "    password = 'Mysql@2025',\n",
    "    autocommit = True\n",
    ")\n",
    "cursor =conn.cursor()\n",
    "print(cursor)"
   ]
  },
  {
   "cell_type": "code",
   "execution_count": 7,
   "id": "38ae2663-6ae2-4f41-a3e8-0f56fe3c132c",
   "metadata": {},
   "outputs": [
    {
     "data": {
      "text/plain": [
       "0"
      ]
     },
     "execution_count": 7,
     "metadata": {},
     "output_type": "execute_result"
    }
   ],
   "source": [
    "cursor.execute(\"CREATE DATABASE IF NOT EXISTS BigMart;\")\n",
    "cursor.execute(\"USE BigMart;\")"
   ]
  },
  {
   "cell_type": "code",
   "execution_count": 8,
   "id": "3cb4fce8-db46-40cb-867a-0a2375f9d39f",
   "metadata": {},
   "outputs": [],
   "source": [
    "# Create tables\n",
    "def create_table_from_df(df,table_name):\n",
    "    cols =[]\n",
    "    for col in df.columns:\n",
    "        dtype = df[col].dtypes\n",
    "        if \"int\" in str(dtype):\n",
    "            sql_dtype = \"INT\"\n",
    "        if \"float\" in str(dtype):\n",
    "            sql_dtype = \"FLOAT\"\n",
    "        else:\n",
    "            sql_dtype = \"VARCHAR(255)\"\n",
    "        cols.append(f\"{col} {sql_dtype}\")\n",
    "    columns_sql = ','.join(cols)\n",
    "    create_sql =f\"CREATE TABLE IF NOT EXISTS {table_name} ({columns_sql})\"\n",
    "    cursor.execute(create_sql)"
   ]
  },
  {
   "cell_type": "code",
   "execution_count": 9,
   "id": "520607ff-7ca8-46e9-9671-5bccde4169fe",
   "metadata": {},
   "outputs": [],
   "source": [
    "create_table_from_df(df_item, \"item_info\")\n",
    "create_table_from_df(df_outlet, \"outlet_info\")\n",
    "create_table_from_df(df_sales, \"sales_info\")"
   ]
  },
  {
   "cell_type": "code",
   "execution_count": 10,
   "id": "e765b00d-6dae-4435-a9ca-9e1ee1c0f027",
   "metadata": {},
   "outputs": [],
   "source": [
    "# insert data\n",
    "def insert_data_from_df(df, table_name):\n",
    "    df = df.where(pd.notnull(df),None)\n",
    "    cols =\",\".join([f\"{col}\" for col in df.columns])\n",
    "    placeholders = \",\".join([\"%s\"]* len(df.columns))\n",
    "    insert_sql = f\"INSERT INTO {table_name} ({cols}) VALUES ({placeholders})\"\n",
    "    data = [tuple(row) for row in df.itertuples(index = False, name = None)]\n",
    "    cursor.executemany(insert_sql, data)"
   ]
  },
  {
   "cell_type": "code",
   "execution_count": 11,
   "id": "38dd7cdf-072b-4a6f-b061-f28cdce60e43",
   "metadata": {},
   "outputs": [],
   "source": [
    "insert_data_from_df(df_item, \"item_info\")\n",
    "insert_data_from_df(df_outlet, \"outlet_info\")\n",
    "insert_data_from_df(df_sales, \"sales_info\")"
   ]
  },
  {
   "cell_type": "code",
   "execution_count": 12,
   "id": "af412d1e-41ea-4bef-9120-31792d3120df",
   "metadata": {},
   "outputs": [],
   "source": [
    "# Closing the cursor and the connection \n",
    "cursor.close()\n",
    "conn.close()"
   ]
  },
  {
   "cell_type": "code",
   "execution_count": null,
   "id": "58fe50a9-ee3a-4e5a-ba22-4c3148c0815d",
   "metadata": {},
   "outputs": [],
   "source": []
  }
 ],
 "metadata": {
  "kernelspec": {
   "display_name": "Python 3 (ipykernel)",
   "language": "python",
   "name": "python3"
  },
  "language_info": {
   "codemirror_mode": {
    "name": "ipython",
    "version": 3
   },
   "file_extension": ".py",
   "mimetype": "text/x-python",
   "name": "python",
   "nbconvert_exporter": "python",
   "pygments_lexer": "ipython3",
   "version": "3.13.5"
  }
 },
 "nbformat": 4,
 "nbformat_minor": 5
}
